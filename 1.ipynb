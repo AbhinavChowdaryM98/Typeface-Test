{
 "cells": [
  {
   "cell_type": "code",
   "execution_count": null,
   "metadata": {},
   "outputs": [],
   "source": [
    "import cv2\n",
    "import numpy as np"
   ]
  },
  {
   "cell_type": "code",
   "execution_count": null,
   "metadata": {},
   "outputs": [],
   "source": [
    "def FloodFill(img):\n",
    "  h,w = img.shape\n",
    "  vis = np.zeros(img.shape)\n",
    "  prev = 1\n",
    "  for i in range(h):\n",
    "    for j in range(w):\n",
    "      if(img[i][j] > 0):\n",
    "        vis[i][j] = prev\n",
    "  # comp = vis == prev_vis\n",
    "        if(j > 0):\n",
    "          if(vis[i][j-1] != 0):\n",
    "            vis[i][j] = min(prev,vis[i][j-1])\n",
    "        if(i>0):\n",
    "          if(vis[i-1][j] != 0):\n",
    "            vis[i][j] = min(vis[i-1][j], vis[i][j])\n",
    "        if(vis[i][j] == prev):\n",
    "          prev+=1\n",
    "  # prev_vis = np.copy(vis)\n",
    "  # comp = vis == prev_vis\n",
    "  equal_arrays = False\n",
    "  while equal_arrays == False:\n",
    "    prev_vis = np.copy(vis)\n",
    "    for i in range(h):\n",
    "      for j in range(w):\n",
    "        if(i>0):\n",
    "          if(vis[i-1][j]>0):\n",
    "            vis[i][j] = min(vis[i-1][j], vis[i][j])\n",
    "        if(j>0):\n",
    "          if(vis[i][j-1] > 0):\n",
    "            vis[i][j] = min(vis[i][j-1], vis[i][j])\n",
    "        if(i < h-1):\n",
    "          if(vis[i+1][j]>0):\n",
    "            vis[i][j] = min(vis[i+1][j], vis[i][j])\n",
    "        if(j < w-1):\n",
    "          if(vis[i][j+1]>0):\n",
    "            vis[i][j] = min(vis[i][j+1], vis[i][j])\n",
    "      comp = vis == prev_vis\n",
    "      equal_arrays = comp.all()\n",
    "  return vis.astype(np.uint8)"
   ]
  },
  {
   "cell_type": "code",
   "execution_count": null,
   "metadata": {},
   "outputs": [],
   "source": [
    "img = cv2.imread('iiit-test-image1.png')\n",
    "conn_comp = FloodFill(img)\n",
    "tmax = np.amax(conn_comp)"
   ]
  },
  {
   "cell_type": "code",
   "execution_count": null,
   "metadata": {},
   "outputs": [],
   "source": [
    "ans = []\n",
    "for i in range(1, tmax+1):\n",
    "    minx , miny = img.shape\n",
    "    maxx, maxy = 0,0\n",
    "    for j in range(len(conn_comp)):\n",
    "        for k in range(len(conn_comp[0])):\n",
    "            if conn_comp[j][k] == i:\n",
    "                if minx > j:\n",
    "                    minx = j\n",
    "                if miny > k:\n",
    "                    miny = k\n",
    "                if maxx < j:\n",
    "                    maxx = j\n",
    "                if maxy < k:\n",
    "                    maxy = k\n",
    "    ans.append([(maxx+minx)//2, (maxy+miny)//2, maxx-minx, maxy-miny])\n",
    "print(ans)"
   ]
  }
 ],
 "metadata": {
  "language_info": {
   "name": "python"
  },
  "orig_nbformat": 4
 },
 "nbformat": 4,
 "nbformat_minor": 2
}
