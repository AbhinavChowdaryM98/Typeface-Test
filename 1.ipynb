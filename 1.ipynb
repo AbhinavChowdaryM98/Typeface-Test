{
  "cells": [
    {
      "cell_type": "code",
      "execution_count": 9,
      "metadata": {
        "id": "2HgjBnGaCkxX"
      },
      "outputs": [],
      "source": [
        "import cv2\n",
        "import numpy as np\n",
        "import matplotlib.pyplot as plt"
      ]
    },
    {
      "cell_type": "code",
      "execution_count": 2,
      "metadata": {
        "id": "_8NSdVaTCkxc"
      },
      "outputs": [],
      "source": [
        "def FloodFill(img):\n",
        "  h,w = img.shape\n",
        "  vis = np.zeros(img.shape)\n",
        "  prev = 1\n",
        "  for i in range(h):\n",
        "    for j in range(w):\n",
        "      if(img[i][j] > 0):\n",
        "        vis[i][j] = prev\n",
        "  # comp = vis == prev_vis\n",
        "        if(j > 0):\n",
        "          if(vis[i][j-1] != 0):\n",
        "            vis[i][j] = min(prev,vis[i][j-1])\n",
        "        if(i>0):\n",
        "          if(vis[i-1][j] != 0):\n",
        "            vis[i][j] = min(vis[i-1][j], vis[i][j])\n",
        "        if(vis[i][j] == prev):\n",
        "          prev+=1\n",
        "  # prev_vis = np.copy(vis)\n",
        "  # comp = vis == prev_vis\n",
        "  equal_arrays = False\n",
        "  while equal_arrays == False:\n",
        "    prev_vis = np.copy(vis)\n",
        "    for i in range(h):\n",
        "      for j in range(w):\n",
        "        if(i>0):\n",
        "          if(vis[i-1][j]>0):\n",
        "            vis[i][j] = min(vis[i-1][j], vis[i][j])\n",
        "        if(j>0):\n",
        "          if(vis[i][j-1] > 0):\n",
        "            vis[i][j] = min(vis[i][j-1], vis[i][j])\n",
        "        if(i < h-1):\n",
        "          if(vis[i+1][j]>0):\n",
        "            vis[i][j] = min(vis[i+1][j], vis[i][j])\n",
        "        if(j < w-1):\n",
        "          if(vis[i][j+1]>0):\n",
        "            vis[i][j] = min(vis[i][j+1], vis[i][j])\n",
        "      comp = vis == prev_vis\n",
        "      equal_arrays = comp.all()\n",
        "  return vis.astype(np.uint8)"
      ]
    },
    {
      "cell_type": "code",
      "execution_count": 4,
      "metadata": {
        "id": "52arpdmTCkxd"
      },
      "outputs": [],
      "source": [
        "img = cv2.imread('iiit-test-image1.png', 0)\n",
        "conn_comp = FloodFill(img)\n",
        "tmax = np.amax(conn_comp)"
      ]
    },
    {
      "cell_type": "code",
      "source": [
        "plt.imshow(img, cmap='gray')\n",
        "plt.axis('off')\n",
        "plt.show()"
      ],
      "metadata": {
        "colab": {
          "base_uri": "https://localhost:8080/",
          "height": 248
        },
        "id": "Sr9yhvdrDYuA",
        "outputId": "4aa93ac2-c3ba-4b7e-c97e-cbae45531dd3"
      },
      "execution_count": 10,
      "outputs": [
        {
          "output_type": "display_data",
          "data": {
            "text/plain": [
              "<Figure size 432x288 with 1 Axes>"
            ],
            "image/png": "[encoded data removed]"
          },
          "metadata": {
            "needs_background": "light"
          }
        }
      ]
    },
    {
      "cell_type": "code",
      "execution_count": 7,
      "metadata": {
        "colab": {
          "base_uri": "https://localhost:8080/"
        },
        "id": "3ducqgBVCkxe",
        "outputId": "5cfe38fc-fadc-4158-c252-07d9f72fa2d6"
      },
      "outputs": [
        {
          "output_type": "stream",
          "name": "stdout",
          "text": [
            "[[176, 128, 217, 84], [177, 216, 217, 87]]\n"
          ]
        }
      ],
      "source": [
        "ans = []\n",
        "for i in range(1, tmax+1):\n",
        "    minx , miny = img.shape\n",
        "    maxx, maxy = 0,0\n",
        "    for j in range(len(conn_comp)):\n",
        "        for k in range(len(conn_comp[0])):\n",
        "            if conn_comp[j][k] == i:\n",
        "                if minx > j:\n",
        "                    minx = j\n",
        "                if miny > k:\n",
        "                    miny = k\n",
        "                if maxx < j:\n",
        "                    maxx = j\n",
        "                if maxy < k:\n",
        "                    maxy = k\n",
        "    h = maxx-minx+1\n",
        "    w = maxy-miny+1\n",
        "    if h > 5 and w > 5:\n",
        "      ans.append([(maxx+minx)//2, (maxy+miny)//2, h, w])\n",
        "print(ans)"
      ]
    }
  ],
  "metadata": {
    "kernelspec": {
      "display_name": "Python 3",
      "language": "python",
      "name": "python3"
    },
    "language_info": {
      "name": "python",
      "version": "3.10.6 (main, Nov 14 2022, 16:10:14) [GCC 11.3.0]"
    },
    "orig_nbformat": 4,
    "vscode": {
      "interpreter": {
        "hash": "916dbcbb3f70747c44a77c7bcd40155683ae19c65e1c03b4aa3499c5328201f1"
      }
    },
    "colab": {
      "provenance": []
    }
  },
  "nbformat": 4,
  "nbformat_minor": 0
}